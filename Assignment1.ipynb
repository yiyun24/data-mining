{
 "cells": [
  {
   "cell_type": "code",
   "execution_count": 10,
   "metadata": {
    "collapsed": true
   },
   "outputs": [],
   "source": [
    "import pandas as pd\n",
    "%matplotlib inline\n",
    "import matplotlib.pyplot as plt\n",
    "import datetime as dt"
   ]
  },
  {
   "cell_type": "code",
   "execution_count": 11,
   "metadata": {
    "collapsed": true
   },
   "outputs": [],
   "source": [
    "unames = ['user_id', 'gender', 'age', 'occupation', 'zip']\n",
    "users = pd.read_table('ml-1m/users.dat', sep='::', header=None, names=unames, engine='python')\n",
    "\n",
    "rnames = ['user_id', 'movie_id', 'rating', 'timestamp']\n",
    "ratings = pd.read_table('ml-1m/ratings.dat', sep='::', header=None, names=rnames, engine='python')\n",
    "\n",
    "mnames = ['movie_id', 'title', 'genres']\n",
    "movies = pd.read_table('ml-1m/movies.dat', sep='::', header=None, names=mnames, engine='python')"
   ]
  },
  {
   "cell_type": "code",
   "execution_count": 34,
   "metadata": {
    "collapsed": false
   },
   "outputs": [],
   "source": [
    "data = pd.merge(pd.merge(ratings, users), movies)"
   ]
  },
  {
   "cell_type": "code",
   "execution_count": 27,
   "metadata": {
    "collapsed": false
   },
   "outputs": [
    {
     "data": {
      "text/plain": [
       "genres\n",
       "Action                                           3.354886\n",
       "Action|Adventure                                 3.676814\n",
       "Action|Adventure|Animation                       4.147826\n",
       "Action|Adventure|Animation|Children's|Fantasy    2.703704\n",
       "Action|Adventure|Animation|Horror|Sci-Fi         3.546926\n",
       "Action|Adventure|Children's                      1.318182\n",
       "Action|Adventure|Children's|Comedy               2.306950\n",
       "Action|Adventure|Children's|Fantasy              2.090909\n",
       "Action|Adventure|Children's|Sci-Fi               1.874286\n",
       "Action|Adventure|Comedy                          3.095330\n",
       "Action|Adventure|Comedy|Crime                    3.137194\n",
       "Action|Adventure|Comedy|Horror                   3.826642\n",
       "Action|Adventure|Comedy|Horror|Sci-Fi            3.804233\n",
       "Action|Adventure|Comedy|Romance                  3.862448\n",
       "Action|Adventure|Comedy|Sci-Fi                   3.739953\n",
       "Action|Adventure|Comedy|War                      2.276995\n",
       "Action|Adventure|Crime                           2.925349\n",
       "Action|Adventure|Crime|Drama                     3.600978\n",
       "Action|Adventure|Crime|Thriller                  2.782407\n",
       "Action|Adventure|Drama                           3.269629\n",
       "Action|Adventure|Drama|Romance                   2.950276\n",
       "Action|Adventure|Drama|Sci-Fi|War                4.292977\n",
       "Action|Adventure|Drama|Thriller                  3.422886\n",
       "Action|Adventure|Fantasy                         3.220211\n",
       "Action|Adventure|Fantasy|Sci-Fi                  3.904041\n",
       "Action|Adventure|Horror                          3.378364\n",
       "Action|Adventure|Horror|Thriller                 3.321748\n",
       "Action|Adventure|Mystery                         3.424449\n",
       "Action|Adventure|Mystery|Sci-Fi                  2.238938\n",
       "Action|Adventure|Romance                         3.418955\n",
       "                                                   ...   \n",
       "Film-Noir|Sci-Fi                                 4.273333\n",
       "Film-Noir|Sci-Fi|Thriller                        3.822654\n",
       "Film-Noir|Thriller                               4.206757\n",
       "Horror                                           3.071932\n",
       "Horror|Mystery                                   2.745098\n",
       "Horror|Mystery|Thriller                          2.911619\n",
       "Horror|Romance                                   3.457368\n",
       "Horror|Sci-Fi                                    3.056601\n",
       "Horror|Sci-Fi|Thriller                           2.726729\n",
       "Horror|Thriller                                  3.200370\n",
       "Musical                                          3.797259\n",
       "Musical|Romance                                  3.946822\n",
       "Musical|Romance|War                              3.614286\n",
       "Musical|War                                      3.902935\n",
       "Mystery                                          3.785959\n",
       "Mystery|Romance|Thriller                         3.609424\n",
       "Mystery|Sci-Fi                                   3.438697\n",
       "Mystery|Sci-Fi|Thriller                          3.492972\n",
       "Mystery|Thriller                                 3.891449\n",
       "Romance                                          3.390948\n",
       "Romance|Thriller                                 3.875445\n",
       "Romance|War                                      3.384615\n",
       "Romance|Western                                  3.650794\n",
       "Sci-Fi                                           3.593548\n",
       "Sci-Fi|Thriller                                  3.028073\n",
       "Sci-Fi|Thriller|War                              3.439286\n",
       "Sci-Fi|War                                       4.449890\n",
       "Thriller                                         3.555879\n",
       "War                                              3.889001\n",
       "Western                                          3.853226\n",
       "Name: rating, dtype: float64"
      ]
     },
     "execution_count": 27,
     "metadata": {},
     "output_type": "execute_result"
    }
   ],
   "source": [
    "# An aggregate of the movie ratings for each particular genre. \n",
    "data.groupby('genres')['rating'].mean()"
   ]
  },
  {
   "cell_type": "code",
   "execution_count": 34,
   "metadata": {
    "collapsed": false
   },
   "outputs": [],
   "source": [
    "# The top 5 highest ranked genre by women.\n",
    "mean_ratings = data.pivot_table('rating', index='genres', columns='gender', aggfunc='mean')"
   ]
  },
  {
   "cell_type": "code",
   "execution_count": 35,
   "metadata": {
    "collapsed": false
   },
   "outputs": [],
   "source": [
    "woman_rating = mean_ratings.sort_values('F', ascending=0)"
   ]
  },
  {
   "cell_type": "code",
   "execution_count": 93,
   "metadata": {
    "collapsed": false
   },
   "outputs": [
    {
     "data": {
      "text/plain": [
       "genres\n",
       "Animation|Comedy|Thriller             4.550802\n",
       "Animation                             4.533333\n",
       "Film-Noir|Romance|Thriller            4.448718\n",
       "Sci-Fi|War                            4.376623\n",
       "Adventure|Children's|Drama|Musical    4.355030\n",
       "Name: F, dtype: float64"
      ]
     },
     "execution_count": 93,
     "metadata": {},
     "output_type": "execute_result"
    }
   ],
   "source": [
    "top_5_w = woman_rating[:5]\n",
    "top_5_w[top_5_w.columns[0]]"
   ]
  },
  {
   "cell_type": "code",
   "execution_count": 37,
   "metadata": {
    "collapsed": true
   },
   "outputs": [],
   "source": [
    "# The top 5 highest ranked genre by men. \n",
    "man_rating = mean_ratings.sort_values('M', ascending=0)"
   ]
  },
  {
   "cell_type": "code",
   "execution_count": 94,
   "metadata": {
    "collapsed": false
   },
   "outputs": [
    {
     "data": {
      "text/plain": [
       "genres\n",
       "Sci-Fi|War                   4.376623\n",
       "Animation|Comedy|Thriller    4.550802\n",
       "Film-Noir|Mystery            4.319444\n",
       "Adventure|War                4.187970\n",
       "Animation                    4.533333\n",
       "Name: F, dtype: float64"
      ]
     },
     "execution_count": 94,
     "metadata": {},
     "output_type": "execute_result"
    }
   ],
   "source": [
    "top_5_m = man_rating[:5]\n",
    "top_5_m[top_5_m.columns[0]]"
   ]
  },
  {
   "cell_type": "code",
   "execution_count": 45,
   "metadata": {
    "collapsed": false
   },
   "outputs": [],
   "source": [
    "# A breakdown of a movie’s ratings by age, use X-Men (2000).\n",
    "xmen = data[data['title'] == 'X-Men (2000)']"
   ]
  },
  {
   "cell_type": "code",
   "execution_count": 47,
   "metadata": {
    "collapsed": false
   },
   "outputs": [],
   "source": [
    "age_ratings = xmen.pivot_table('rating', index='age')"
   ]
  },
  {
   "cell_type": "code",
   "execution_count": 48,
   "metadata": {
    "collapsed": false
   },
   "outputs": [
    {
     "data": {
      "text/plain": [
       "age\n",
       "1     3.805195\n",
       "18    3.938875\n",
       "25    3.851330\n",
       "35    3.757322\n",
       "45    3.633803\n",
       "50    3.360000\n",
       "56    3.230769\n",
       "Name: rating, dtype: float64"
      ]
     },
     "execution_count": 48,
     "metadata": {},
     "output_type": "execute_result"
    }
   ],
   "source": [
    "age_ratings"
   ]
  },
  {
   "cell_type": "code",
   "execution_count": 91,
   "metadata": {
    "collapsed": false
   },
   "outputs": [],
   "source": [
    "# A function that given a user_id and movie_id , returns a list of user_ids \n",
    "# for other users that rated the movie identified by the provided movie_id with the same score. \n",
    "\n",
    "def sameRatingUsers(user_id, movie_id):\n",
    "    sub_data = data.loc[(data['user_id'] == user_id) & (data['movie_id'] == movie_id)]\n",
    "    rating = sub_data.ix[0,'rating']\n",
    "    users = data[(data['movie_id'] == movie_id) & (data['rating'] == rating)]\n",
    "    return users[users.columns[0]]"
   ]
  },
  {
   "cell_type": "code",
   "execution_count": 92,
   "metadata": {
    "collapsed": false
   },
   "outputs": [
    {
     "data": {
      "text/plain": [
       "0          1\n",
       "1          2\n",
       "4         17\n",
       "6         19\n",
       "7         24\n",
       "9         33\n",
       "10        39\n",
       "16        53\n",
       "17        54\n",
       "18        58\n",
       "22        81\n",
       "23        88\n",
       "24        89\n",
       "25        95\n",
       "28       102\n",
       "30       107\n",
       "32       120\n",
       "33       123\n",
       "34       131\n",
       "38       150\n",
       "40       155\n",
       "41       166\n",
       "42       169\n",
       "43       175\n",
       "45       180\n",
       "46       190\n",
       "49       195\n",
       "53       208\n",
       "60       235\n",
       "61       236\n",
       "        ... \n",
       "1668    5859\n",
       "1669    5865\n",
       "1670    5868\n",
       "1674    5888\n",
       "1676    5890\n",
       "1682    5911\n",
       "1684    5917\n",
       "1685    5920\n",
       "1687    5924\n",
       "1690    5942\n",
       "1693    5948\n",
       "1694    5949\n",
       "1695    5950\n",
       "1697    5954\n",
       "1698    5956\n",
       "1699    5958\n",
       "1700    5962\n",
       "1701    5964\n",
       "1702    5965\n",
       "1706    5975\n",
       "1708    5977\n",
       "1709    5978\n",
       "1712    5986\n",
       "1714    6001\n",
       "1715    6002\n",
       "1718    6021\n",
       "1719    6032\n",
       "1720    6033\n",
       "1721    6035\n",
       "1722    6036\n",
       "Name: user_id, dtype: int64"
      ]
     },
     "execution_count": 92,
     "metadata": {},
     "output_type": "execute_result"
    }
   ],
   "source": [
    "# example\n",
    "sameRatingUsers(1, 1193)"
   ]
  },
  {
   "cell_type": "code",
   "execution_count": 95,
   "metadata": {
    "collapsed": false
   },
   "outputs": [
    {
     "data": {
      "text/html": [
       "<div>\n",
       "<table border=\"1\" class=\"dataframe\">\n",
       "  <thead>\n",
       "    <tr style=\"text-align: right;\">\n",
       "      <th>gender</th>\n",
       "      <th>F</th>\n",
       "      <th>M</th>\n",
       "    </tr>\n",
       "    <tr>\n",
       "      <th>genres</th>\n",
       "      <th></th>\n",
       "      <th></th>\n",
       "    </tr>\n",
       "  </thead>\n",
       "  <tbody>\n",
       "    <tr>\n",
       "      <th>Drama</th>\n",
       "      <td>32852.0</td>\n",
       "      <td>78571.0</td>\n",
       "    </tr>\n",
       "    <tr>\n",
       "      <th>Comedy</th>\n",
       "      <td>29208.0</td>\n",
       "      <td>87675.0</td>\n",
       "    </tr>\n",
       "    <tr>\n",
       "      <th>Comedy|Romance</th>\n",
       "      <td>15600.0</td>\n",
       "      <td>27112.0</td>\n",
       "    </tr>\n",
       "    <tr>\n",
       "      <th>Comedy|Drama</th>\n",
       "      <td>12308.0</td>\n",
       "      <td>29937.0</td>\n",
       "    </tr>\n",
       "    <tr>\n",
       "      <th>Drama|Romance</th>\n",
       "      <td>11749.0</td>\n",
       "      <td>17421.0</td>\n",
       "    </tr>\n",
       "  </tbody>\n",
       "</table>\n",
       "</div>"
      ],
      "text/plain": [
       "gender                F        M\n",
       "genres                          \n",
       "Drama           32852.0  78571.0\n",
       "Comedy          29208.0  87675.0\n",
       "Comedy|Romance  15600.0  27112.0\n",
       "Comedy|Drama    12308.0  29937.0\n",
       "Drama|Romance   11749.0  17421.0"
      ]
     },
     "execution_count": 95,
     "metadata": {},
     "output_type": "execute_result"
    }
   ],
   "source": [
    "# Some other statistic, figure, data aggregate, or plot that you created using this dataset, \n",
    "# along with a short description of what interesting observations you derived from it. \n",
    "\n",
    "# I list the top five most rated genres by women and men and compare them with the top rated table and \n",
    "# can find that no genres appear on the both lists, which may indicate that the more users rate one genre,\n",
    "# the less the genre tend to be rated. However drama, comedy and romance are among the most rated genres \n",
    "# for both men and women which show the popularity of those genres\n",
    "count_ratings = data.pivot_table('rating', index='genres', columns='gender', aggfunc='count')\n",
    "woman_rating = count_ratings.sort_values('F', ascending=0)\n",
    "woman_rating[:5]"
   ]
  },
  {
   "cell_type": "code",
   "execution_count": 96,
   "metadata": {
    "collapsed": false
   },
   "outputs": [
    {
     "data": {
      "text/html": [
       "<div>\n",
       "<table border=\"1\" class=\"dataframe\">\n",
       "  <thead>\n",
       "    <tr style=\"text-align: right;\">\n",
       "      <th>gender</th>\n",
       "      <th>F</th>\n",
       "      <th>M</th>\n",
       "    </tr>\n",
       "    <tr>\n",
       "      <th>genres</th>\n",
       "      <th></th>\n",
       "      <th></th>\n",
       "    </tr>\n",
       "  </thead>\n",
       "  <tbody>\n",
       "    <tr>\n",
       "      <th>Comedy</th>\n",
       "      <td>29208.0</td>\n",
       "      <td>87675.0</td>\n",
       "    </tr>\n",
       "    <tr>\n",
       "      <th>Drama</th>\n",
       "      <td>32852.0</td>\n",
       "      <td>78571.0</td>\n",
       "    </tr>\n",
       "    <tr>\n",
       "      <th>Comedy|Drama</th>\n",
       "      <td>12308.0</td>\n",
       "      <td>29937.0</td>\n",
       "    </tr>\n",
       "    <tr>\n",
       "      <th>Comedy|Romance</th>\n",
       "      <td>15600.0</td>\n",
       "      <td>27112.0</td>\n",
       "    </tr>\n",
       "    <tr>\n",
       "      <th>Action|Thriller</th>\n",
       "      <td>4830.0</td>\n",
       "      <td>21929.0</td>\n",
       "    </tr>\n",
       "  </tbody>\n",
       "</table>\n",
       "</div>"
      ],
      "text/plain": [
       "gender                 F        M\n",
       "genres                           \n",
       "Comedy           29208.0  87675.0\n",
       "Drama            32852.0  78571.0\n",
       "Comedy|Drama     12308.0  29937.0\n",
       "Comedy|Romance   15600.0  27112.0\n",
       "Action|Thriller   4830.0  21929.0"
      ]
     },
     "execution_count": 96,
     "metadata": {},
     "output_type": "execute_result"
    }
   ],
   "source": [
    "man_rating = count_ratings.sort_values('M', ascending=0)\n",
    "man_rating[:5]"
   ]
  },
  {
   "cell_type": "code",
   "execution_count": 35,
   "metadata": {
    "collapsed": false
   },
   "outputs": [],
   "source": [
    "data['timestamp'] = data['timestamp'].apply(lambda x: dt.datetime.fromtimestamp(x))"
   ]
  },
  {
   "cell_type": "code",
   "execution_count": 32,
   "metadata": {
    "collapsed": false
   },
   "outputs": [
    {
     "data": {
      "text/plain": [
       "<matplotlib.axes._subplots.AxesSubplot at 0x11c580fd0>"
      ]
     },
     "execution_count": 32,
     "metadata": {},
     "output_type": "execute_result"
    },
    {
     "data": {
      "image/png": "[encoded data removed]",
      "text/plain": [
       "<matplotlib.figure.Figure at 0x11c5a4d30>"
      ]
     },
     "metadata": {},
     "output_type": "display_data"
    }
   ],
   "source": [
    "# I group the rating by years and find out the average rating is droping through the year\n",
    "year_rating = data.groupby(data['timestamp'].map(lambda t: t.year))['rating'].mean()\n",
    "day.plot()"
   ]
  },
  {
   "cell_type": "code",
   "execution_count": null,
   "metadata": {
    "collapsed": true
   },
   "outputs": [],
   "source": []
  }
 ],
 "metadata": {
  "anaconda-cloud": {},
  "kernelspec": {
   "display_name": "Python [Root]",
   "language": "python",
   "name": "Python [Root]"
  },
  "language_info": {
   "codemirror_mode": {
    "name": "ipython",
    "version": 3
   },
   "file_extension": ".py",
   "mimetype": "text/x-python",
   "name": "python",
   "nbconvert_exporter": "python",
   "pygments_lexer": "ipython3",
   "version": "3.5.2"
  }
 },
 "nbformat": 4,
 "nbformat_minor": 0
}
